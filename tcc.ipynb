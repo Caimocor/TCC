{
 "cells": [
  {
   "cell_type": "markdown",
   "metadata": {},
   "source": [
    "# Gerando os dados aleatórios"
   ]
  },
  {
   "cell_type": "code",
   "execution_count": 2,
   "metadata": {},
   "outputs": [],
   "source": [
    "from math import sqrt, exp, log, erf\n",
    "import numpy as np\n",
    "import pandas as pd \n",
    "\n",
    "#   Generate data samples\n",
    "#   We resolve dependent parameters strike and underlying price to ratio strike/underlying\n",
    "class DataGenerator():\n",
    "\n",
    "    def generate_random_input(self, n):\n",
    "        spot = np.random.uniform(1, 150, n)\n",
    "        strike = np.random.uniform(1, 150, n) # K/S\n",
    "        time = np.random.uniform(0, 600, n)                      # time until expiration in days\n",
    "        rate = np.random.uniform(0.4, 0.6, n)                   # Annualized risk free rate\n",
    "        sigma = np.random.uniform(0.0001, 2.0, n)                # Standard Deviation of stock's returns\n",
    "        dividend = np.random.uniform(0.0, 0.2, n)                # Dividend yield\n",
    "        return np.matrix([spot,strike, time, rate, sigma, dividend]).transpose()\n",
    "\n",
    "    def calc_black_scholes(self, x):\n",
    "        # shorthanded\n",
    "        ratio_strike_underlying = x[0]\n",
    "        time = x[1]\n",
    "        rate = x[2]\n",
    "        sigma = x[3]\n",
    "        dividend = x[4]\n",
    "        \n",
    "        sigTsquared = sqrt(time / 365) * sigma\n",
    "        edivT = exp((-dividend * time) / 365)\n",
    "        ert = exp((-rate * time) / 365)\n",
    "        d1 = (log(edivT/ratio_strike_underlying) + (rate + .5 * (sigma ** 2)) * time / 365) / sigTsquared\n",
    "        d2 = d1 - sigTsquared\n",
    "        Nd1 = (1 + erf(d1 / sqrt(2))) / 2\n",
    "        Nd2 = (1 + erf(d2 / sqrt(2))) / 2\n",
    "\n",
    "        # We are only interested in ratio of premium to underlying price\n",
    "        ratio_call_premium_underlying = edivT*Nd1 - ratio_strike_underlying * ert * Nd2\n",
    "\n",
    "        return ratio_call_premium_underlying\n",
    "\n",
    "    def generate_output(self, input_data):\n",
    "        return np.apply_along_axis(self.calc_black_scholes, axis=1, arr=input_data)"
   ]
  },
  {
   "cell_type": "code",
   "execution_count": 3,
   "metadata": {},
   "outputs": [],
   "source": [
    "n_samples = 100\n",
    "tdg = DataGenerator()\n",
    "X = tdg.generate_random_input(n_samples) \n",
    "dados = pd.DataFrame(data=X, columns=['spot','strike', 'time', 'rate', 'sigma', 'dividend'])\n",
    "\n"
   ]
  },
  {
   "cell_type": "code",
   "execution_count": 4,
   "metadata": {},
   "outputs": [
    {
     "data": {
      "text/plain": [
       "10.266683332052937"
      ]
     },
     "execution_count": 4,
     "metadata": {},
     "output_type": "execute_result"
    }
   ],
   "source": [
    "import numpy as np\n",
    "import scipy.stats as si\n",
    "import sympy as sy\n",
    "import sympy.stats as systats\n",
    "\n",
    "def black_scholes_call_div(S, K, T, r, q, sigma):\n",
    "    \n",
    "    #S: spot price\n",
    "    #K: strike price\n",
    "    #T: time to maturity\n",
    "    #r: interest rate\n",
    "    #q: rate of continuous dividend paying asset \n",
    "    #sigma: volatility of underlying asset\n",
    "    \n",
    "    d1 = (np.log(S / K) + (r - q + 0.5 * sigma ** 2) * T) / (sigma * np.sqrt(T))\n",
    "    d2 = (np.log(S / K) + (r - q - 0.5 * sigma ** 2) * T) / (sigma * np.sqrt(T))\n",
    "    \n",
    "    call = (S * np.exp(-q * T) * si.norm.cdf(d1, 0.0, 1.0) - K * np.exp(-r * T) * si.norm.cdf(d2, 0.0, 1.0))\n",
    "    \n",
    "    return call\n",
    "\n",
    "S = 30\n",
    "K = 40\n",
    "T = (30/252) #anos\n",
    "r = 4 #taxa de juros anualizada\n",
    "q = 9\n",
    "sigma = 20 #volatilidade 20%\n",
    "black_scholes_call_div(S, K, T, r, q, sigma)"
   ]
  },
  {
   "cell_type": "code",
   "execution_count": null,
   "metadata": {},
   "outputs": [],
   "source": []
  }
 ],
 "metadata": {
  "kernelspec": {
   "display_name": "Python 3",
   "language": "python",
   "name": "python3"
  },
  "language_info": {
   "codemirror_mode": {
    "name": "ipython",
    "version": 3
   },
   "file_extension": ".py",
   "mimetype": "text/x-python",
   "name": "python",
   "nbconvert_exporter": "python",
   "pygments_lexer": "ipython3",
   "version": "3.7.4"
  }
 },
 "nbformat": 4,
 "nbformat_minor": 2
}
